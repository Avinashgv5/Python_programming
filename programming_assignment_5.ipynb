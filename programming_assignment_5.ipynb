{
 "cells": [
  {
   "cell_type": "markdown",
   "id": "d1760038",
   "metadata": {},
   "source": [
    "# Write a Python Program to Find LCM?"
   ]
  },
  {
   "cell_type": "code",
   "execution_count": 17,
   "id": "9736fd6e",
   "metadata": {},
   "outputs": [
    {
     "name": "stdout",
     "output_type": "stream",
     "text": [
      "enter number 1:12\n",
      "enter number 2:6\n",
      "lcm of 12 and 6 is:  12\n"
     ]
    }
   ],
   "source": [
    "# define function to calculate gcd using the euclidean algorithm\n",
    "\n",
    "def gcd(a,b):\n",
    "    while b:\n",
    "        a,b =b,a%b\n",
    "    return a\n",
    "\n",
    "# define lcm function\n",
    "def lcm(a,b):\n",
    "    return a*b //gcd(a,b)\n",
    "\n",
    "num1=int(input(\"enter number 1:\"))\n",
    "num2=int(input(\"enter number 2:\"))\n",
    "\n",
    "result=lcm(num1,num2)\n",
    "\n",
    "print(\"lcm of\", num1, \"and\", num2, \"is: \", result)"
   ]
  },
  {
   "cell_type": "code",
   "execution_count": 18,
   "id": "430160e7",
   "metadata": {},
   "outputs": [
    {
     "data": {
      "text/plain": [
       "4"
      ]
     },
     "execution_count": 18,
     "metadata": {},
     "output_type": "execute_result"
    }
   ],
   "source": [
    "gcd(8,12)"
   ]
  },
  {
   "cell_type": "markdown",
   "id": "bffc4e2e",
   "metadata": {},
   "source": [
    "# 2. Write a Python Program to Find HCF?"
   ]
  },
  {
   "cell_type": "code",
   "execution_count": 20,
   "id": "0add09db",
   "metadata": {},
   "outputs": [
    {
     "name": "stdout",
     "output_type": "stream",
     "text": [
      "enter number 1:8\n",
      "enter number 2:12\n",
      "hcf of 8 and 12 is:  4\n"
     ]
    }
   ],
   "source": [
    "# define function to calculate gcd using the euclidean algorithm\n",
    "\n",
    "def hcf(a,b):\n",
    "    while b:\n",
    "        a,b =b,a%b\n",
    "    return a\n",
    "num1=int(input(\"enter number 1:\"))\n",
    "num2=int(input(\"enter number 2:\"))\n",
    "\n",
    "result=hcf(num1,num2)\n",
    "\n",
    "print(\"hcf of\", num1, \"and\", num2, \"is: \", result)\n"
   ]
  },
  {
   "cell_type": "markdown",
   "id": "77d45030",
   "metadata": {},
   "source": [
    "# 3. Write a Python Program to Convert Decimal to Binary, Octal and Hexadecimal?"
   ]
  },
  {
   "cell_type": "code",
   "execution_count": 28,
   "id": "9e081ef1",
   "metadata": {},
   "outputs": [],
   "source": [
    "## Decimal to Binary"
   ]
  },
  {
   "cell_type": "code",
   "execution_count": 45,
   "id": "0f232809",
   "metadata": {},
   "outputs": [
    {
     "name": "stdout",
     "output_type": "stream",
     "text": [
      "enter decimal number: 24\n",
      "Binary of 24 is:  11000\n"
     ]
    }
   ],
   "source": [
    "\n",
    "def decimal_to_binary(Decimal):\n",
    "    binary=\"\"\n",
    "    while Decimal>0:\n",
    "        reminder=Decimal%2\n",
    "        binary=str(reminder)+binary\n",
    "        Decimal=Decimal//2\n",
    "    return binary\n",
    "num1=int(input(\"enter decimal number: \"))\n",
    "result=decimal_to_binary(num1)\n",
    "print('Binary of', num1, \"is: \", result)\n",
    "\n",
    "\n",
    "        "
   ]
  },
  {
   "cell_type": "code",
   "execution_count": 46,
   "id": "84c8b361",
   "metadata": {},
   "outputs": [],
   "source": [
    "## Decimal to octal"
   ]
  },
  {
   "cell_type": "code",
   "execution_count": 48,
   "id": "2e757d3b",
   "metadata": {},
   "outputs": [
    {
     "name": "stdout",
     "output_type": "stream",
     "text": [
      "enter decimal number: 24\n",
      "octal of 24 is:  30\n"
     ]
    }
   ],
   "source": [
    "def decimal_to_octal(Decimal):\n",
    "    binary=\"\"\n",
    "    while Decimal>0:\n",
    "        reminder=Decimal%8\n",
    "        binary=str(reminder)+binary\n",
    "        Decimal=Decimal//8\n",
    "    return binary\n",
    "num1=int(input(\"enter decimal number: \"))\n",
    "result=decimal_to_octal(num1)\n",
    "print('octal of', num1, \"is: \", result)"
   ]
  },
  {
   "cell_type": "code",
   "execution_count": 49,
   "id": "b82bc53d",
   "metadata": {},
   "outputs": [],
   "source": [
    "## Decimal to hexa"
   ]
  },
  {
   "cell_type": "code",
   "execution_count": 52,
   "id": "1b2069bb",
   "metadata": {},
   "outputs": [
    {
     "name": "stdout",
     "output_type": "stream",
     "text": [
      "enter decimal number: 24\n",
      "hexa of 24 is:  18\n"
     ]
    }
   ],
   "source": [
    "def decimal_to_hexa(Decimal):\n",
    "    binary=\"\"\n",
    "    while Decimal>0:\n",
    "        reminder=Decimal%16\n",
    "        binary=str(reminder)+binary\n",
    "        Decimal=Decimal//16\n",
    "    return binary\n",
    "num1=int(input(\"enter decimal number: \"))\n",
    "result=decimal_to_hexa(num1)\n",
    "print('hexa of', num1, \"is: \", result)"
   ]
  },
  {
   "cell_type": "markdown",
   "id": "f73e8e83",
   "metadata": {},
   "source": [
    "# 4. Write a Python Program To Find ASCII value of a character?"
   ]
  },
  {
   "cell_type": "code",
   "execution_count": 56,
   "id": "1e91f7ad",
   "metadata": {},
   "outputs": [
    {
     "name": "stdout",
     "output_type": "stream",
     "text": [
      "enter char: k\n",
      "ascii char k value is:  107\n"
     ]
    }
   ],
   "source": [
    "def ascii_cahr_value(char):\n",
    "    return ord(char)\n",
    "\n",
    "char1= input(\"enter char: \")\n",
    "result=ascii_cahr_value(char1)\n",
    "print('ascii char', char1 ,\"value is: \", result)"
   ]
  },
  {
   "cell_type": "markdown",
   "id": "b6aafd3c",
   "metadata": {},
   "source": [
    "# 5. Write a Python Program to Make a Simple Calculator with 4 basic mathematical operations?"
   ]
  },
  {
   "cell_type": "code",
   "execution_count": 58,
   "id": "fc4ddd3e",
   "metadata": {},
   "outputs": [
    {
     "name": "stdout",
     "output_type": "stream",
     "text": [
      "enter number 1:2\n",
      "enter number 2:4\n",
      "enter operator:*\n",
      "the value of 2 and 4 of * is: 8\n"
     ]
    }
   ],
   "source": [
    "def cal(a,b,operator):\n",
    "    if operator==\"+\":\n",
    "        result=a+b\n",
    "    elif operator==\"-\":\n",
    "        result=a-b\n",
    "    elif operator==\"*\":\n",
    "        result=a*b\n",
    "    elif operator==\"//\":\n",
    "        result=a//b\n",
    "    else:\n",
    "        print('invalid operatot')\n",
    "        return None\n",
    "    return result\n",
    "\n",
    "num1=int(input(\"enter number 1:\"))\n",
    "num2=int(input(\"enter number 2:\"))\n",
    "operat=input(\"enter operator:\")\n",
    "\n",
    "result=cal(num1,num2,operat)\n",
    "print('the value of' ,num1,'and', num2, 'of',operat,'is:', result)\n",
    "\n",
    "    \n",
    "    "
   ]
  },
  {
   "cell_type": "code",
   "execution_count": null,
   "id": "0a28a0d4",
   "metadata": {},
   "outputs": [],
   "source": []
  }
 ],
 "metadata": {
  "kernelspec": {
   "display_name": "Python 3 (ipykernel)",
   "language": "python",
   "name": "python3"
  },
  "language_info": {
   "codemirror_mode": {
    "name": "ipython",
    "version": 3
   },
   "file_extension": ".py",
   "mimetype": "text/x-python",
   "name": "python",
   "nbconvert_exporter": "python",
   "pygments_lexer": "ipython3",
   "version": "3.9.13"
  }
 },
 "nbformat": 4,
 "nbformat_minor": 5
}
